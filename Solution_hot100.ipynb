{
 "cells": [
  {
   "cell_type": "code",
   "execution_count": 1,
   "id": "a4378516",
   "metadata": {},
   "outputs": [],
   "source": [
    "# 1. import librarries\n",
    "from bs4 import BeautifulSoup\n",
    "import requests\n",
    "import pandas as pd\n",
    "\n",
    "url = 'http://www.billboard.com/charts/hot-100'\n",
    "response = requests.get(url)\n",
    "response.status_code\n",
    "\n",
    "soup = BeautifulSoup(response.content, 'html.parser')"
   ]
  },
  {
   "cell_type": "code",
   "execution_count": 2,
   "id": "02637129",
   "metadata": {},
   "outputs": [
    {
     "data": {
      "text/plain": [
       "200"
      ]
     },
     "execution_count": 2,
     "metadata": {},
     "output_type": "execute_result"
    }
   ],
   "source": [
    "# 2. Download with a get request and check if it returns okay ---> (200 means ok)\n",
    "url = 'http://www.billboard.com/charts/hot-100'\n",
    "response = requests.get(url)\n",
    "response.status_code"
   ]
  },
  {
   "cell_type": "code",
   "execution_count": 3,
   "id": "fbb45de8",
   "metadata": {},
   "outputs": [
    {
     "data": {
      "text/plain": [
       "'Last Night'"
      ]
     },
     "execution_count": 3,
     "metadata": {},
     "output_type": "execute_result"
    }
   ],
   "source": [
    "# 3. To get the song name\n",
    "\n",
    "soup_t = soup.select(\"li.o-chart-results-list__item.\\/\\/.lrv-u-flex-grow-1.lrv-u-flex.lrv-u-flex-direction-column.lrv-u-justify-content-center.lrv-u-border-b-1.u-border-b-0\\@mobile-max.lrv-u-border-color-grey-light.lrv-u-padding-l-1\\@mobile-max > h3\")\n",
    "soup_t[0].get_text().replace(\"\\n\",\"\").replace(\"\\t\",\"\")"
   ]
  },
  {
   "cell_type": "code",
   "execution_count": 4,
   "id": "6527ce1b",
   "metadata": {},
   "outputs": [
    {
     "data": {
      "text/plain": [
       "'Morgan Wallen'"
      ]
     },
     "execution_count": 4,
     "metadata": {},
     "output_type": "execute_result"
    }
   ],
   "source": [
    "#4. To get the artist name\n",
    "\n",
    "soup_a = soup.select(\"li.o-chart-results-list__item.\\/\\/.lrv-u-flex-grow-1.lrv-u-flex.lrv-u-flex-direction-column.lrv-u-justify-content-center.lrv-u-border-b-1.u-border-b-0\\@mobile-max.lrv-u-border-color-grey-light.lrv-u-padding-l-1\\@mobile-max > span\")\n",
    "soup_a[0].get_text().replace(\"\\n\",\"\").replace(\"\\t\",\"\")"
   ]
  },
  {
   "cell_type": "code",
   "execution_count": 5,
   "id": "5cdcd7a9",
   "metadata": {},
   "outputs": [],
   "source": [
    "# To extracts the text data from two lists, soup_t and soup_a, that contains the title and artist information of a music chart. \n",
    "# Iterates using a for loop and appends the cleaned text data to two separate Python lists, titles and artists, respectively.\n",
    "# The replace() method is used to remove any unnecessary newline (\\n) and tab (\\t) characters that may be present in the text data.\n",
    "\n",
    "titles = []\n",
    "artists = []\n",
    "for i in range(len(soup_t)):\n",
    "    titles.append(soup_t[i].get_text().replace(\"\\n\",\"\").replace(\"\\t\",\"\"))\n",
    "    artists.append(soup_a[i].get_text().replace(\"\\n\",\"\").replace(\"\\t\",\"\"))\n",
    "top = pd.DataFrame({'Title':titles,'Artist':artists})"
   ]
  },
  {
   "cell_type": "code",
   "execution_count": 6,
   "id": "5cfd2669",
   "metadata": {},
   "outputs": [],
   "source": [
    "# Define a function\n",
    "def scrape_hot100():\n",
    "\n",
    "    url = \"https://www.billboard.com/charts/hot-100\"\n",
    "    response = requests.get(url)\n",
    "    response.status_code\n",
    "    soup = BeautifulSoup(response.content, \"html.parser\")\n",
    "    soup_t = soup.select(\"li.o-chart-results-list__item.\\/\\/.lrv-u-flex-grow-1.lrv-u-flex.lrv-u-flex-direction-column.lrv-u-justify-content-center.lrv-u-border-b-1.u-border-b-0\\@mobile-max.lrv-u-border-color-grey-light.lrv-u-padding-l-1\\@mobile-max > h3\")\n",
    "    soup_a = soup.select(\"li.o-chart-results-list__item.\\/\\/.lrv-u-flex-grow-1.lrv-u-flex.lrv-u-flex-direction-column.lrv-u-justify-content-center.lrv-u-border-b-1.u-border-b-0\\@mobile-max.lrv-u-border-color-grey-light.lrv-u-padding-l-1\\@mobile-max > span\")\n",
    "    titles = []\n",
    "    artists = []\n",
    "\n",
    "    for i in range(len(soup_t)):\n",
    "        titles.append(soup_t[i].get_text().replace(\"\\n\",\"\").replace(\"\\t\",\"\"))\n",
    "        artists.append(soup_a[i].get_text().replace(\"\\n\",\"\").replace(\"\\t\",\"\"))\n",
    "    top = pd.DataFrame({'Title':titles,'Artist':artists})\n",
    "    return top\n",
    "\n",
    "# To save the file in CSV   \n",
    "    top.to_csv('hot100.csv',index=False)\n",
    "    \n",
    "hot100 = scrape_hot100()\n",
    " "
   ]
  },
  {
   "cell_type": "code",
   "execution_count": 7,
   "id": "12579b82",
   "metadata": {},
   "outputs": [
    {
     "name": "stdout",
     "output_type": "stream",
     "text": [
      "             Title                       Artist\n",
      "0       Last Night                Morgan Wallen\n",
      "1        Kill Bill                          SZA\n",
      "2          Flowers                  Miley Cyrus\n",
      "3  Ella Baila Sola  Eslabon Armado X Peso Pluma\n",
      "4        Un x100to   Grupo Frontera X Bad Bunny\n"
     ]
    }
   ],
   "source": [
    "# To print the result/outcome\n",
    "print(hot100.head())"
   ]
  },
  {
   "cell_type": "code",
   "execution_count": null,
   "id": "8ccf878f",
   "metadata": {},
   "outputs": [],
   "source": []
  }
 ],
 "metadata": {
  "kernelspec": {
   "display_name": "Python 3 (ipykernel)",
   "language": "python",
   "name": "python3"
  },
  "language_info": {
   "codemirror_mode": {
    "name": "ipython",
    "version": 3
   },
   "file_extension": ".py",
   "mimetype": "text/x-python",
   "name": "python",
   "nbconvert_exporter": "python",
   "pygments_lexer": "ipython3",
   "version": "3.9.13"
  }
 },
 "nbformat": 4,
 "nbformat_minor": 5
}
